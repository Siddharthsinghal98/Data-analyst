{
 "cells": [
  {
   "cell_type": "code",
   "execution_count": 13,
   "metadata": {},
   "outputs": [],
   "source": [
    "import requests\n",
    "from requests import get\n",
    "from bs4 import BeautifulSoup\n",
    "import pandas as pd\n",
    "import numpy as np\n",
    "\n",
    "from time import sleep\n",
    "from random import randint\n",
    "import json"
   ]
  },
  {
   "cell_type": "code",
   "execution_count": 14,
   "metadata": {},
   "outputs": [],
   "source": [
    "def job(technology):\n",
    "    \n",
    "    pages = np.arange(1,5)\n",
    "    no_of_jobs=[]\n",
    "\n",
    "    for page in pages:\n",
    "        \n",
    "        url=\"https://jobs.github.com/positions.json?description={}&page={}\".format(technology,page)\n",
    "        r1=requests.get(url)\n",
    "        jobb=r1.json()\n",
    "        \n",
    "                            \n",
    "        no_of_jobs=no_of_jobs+jobb\n",
    "        \n",
    "        number_of_jobs = len( no_of_jobs)\n",
    "    return technology, number_of_jobs\n",
    "  "
   ]
  },
  {
   "cell_type": "code",
   "execution_count": 15,
   "metadata": {},
   "outputs": [
    {
     "name": "stdout",
     "output_type": "stream",
     "text": [
      "('c%2b%2b', 12)\n"
     ]
    }
   ],
   "source": [
    "print(job('c%2b%2b'))"
   ]
  },
  {
   "cell_type": "code",
   "execution_count": 16,
   "metadata": {},
   "outputs": [],
   "source": [
    "list=['C',\n",
    "'C%23',\n",
    "'C%2b%2b',\n",
    "'Java',\n",
    "'JavaScript',\n",
    "'Python',\n",
    "'Scala',\n",
    "'Oracle',\n",
    "'SQL Server',\n",
    "'MySQL Server',\n",
    "'PostgreSQL',\n",
    "'MongoDB']\n",
    "for i in list:\n",
    "    ws.append(job(i))"
   ]
  },
  {
   "cell_type": "code",
   "execution_count": 17,
   "metadata": {},
   "outputs": [],
   "source": [
    "from openpyxl import Workbook"
   ]
  },
  {
   "cell_type": "code",
   "execution_count": 18,
   "metadata": {},
   "outputs": [],
   "source": [
    "wb=Workbook()                       \n",
    "ws=wb.active  "
   ]
  },
  {
   "cell_type": "code",
   "execution_count": 19,
   "metadata": {},
   "outputs": [],
   "source": [
    "wb.save(\"programin.xlsx\")"
   ]
  },
  {
   "cell_type": "code",
   "execution_count": null,
   "metadata": {},
   "outputs": [],
   "source": []
  }
 ],
 "metadata": {
  "kernelspec": {
   "display_name": "Python",
   "language": "python",
   "name": "conda-env-python-py"
  },
  "language_info": {
   "codemirror_mode": {
    "name": "ipython",
    "version": 3
   },
   "file_extension": ".py",
   "mimetype": "text/x-python",
   "name": "python",
   "nbconvert_exporter": "python",
   "pygments_lexer": "ipython3",
   "version": "3.6.12"
  }
 },
 "nbformat": 4,
 "nbformat_minor": 4
}
